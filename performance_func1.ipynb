{
 "cells": [
  {
   "cell_type": "markdown",
   "metadata": {},
   "source": [
    "The performance function is:\n",
    "   $$ g(X) = x_{1} + 2x_{2} + 2x_{3} + x_{4} - 5x_{5} -5x_{6}  $$\n",
    "   \n",
    "   with $$ x_{1},...,x_{4} $$"
   ]
  },
  {
   "cell_type": "code",
   "execution_count": 3,
   "metadata": {
    "collapsed": true
   },
   "outputs": [],
   "source": [
    "#!/usr/bin/env python3\n",
    "# -*- coding: utf-8 -*-\n",
    "import numpy as np\n",
    "#import sympy as sp \n",
    "import matplotlib.pyplot as plt"
   ]
  },
  {
   "cell_type": "code",
   "execution_count": 4,
   "metadata": {
    "collapsed": true
   },
   "outputs": [],
   "source": [
    "# performance function\n",
    "def func_1(x): \n",
    "    x = np.array(x, dtype='f')\n",
    "    # expected number of random variables/columns\n",
    "    nrv_e = 6\n",
    "       \n",
    "    if len(x.shape) == 1:\n",
    "        nrv_p = x.shape[0]\n",
    "        if nrv_p != nrv_e:\n",
    "            raise ValueError('The number of random variables (x, columns) is expected to be ' + str(nrv_e) + ' but ' + str(nrv_p) + ' is provided!')\n",
    "        else:\n",
    "            g = x[0]+2*x[1]+2*x[2]+x[3]-5*x[4]-5*x[5] \n",
    "            \n",
    "    elif len(x.shape) == 2:\n",
    "        nrv_p = x.shape[1]\n",
    "        if nrv_p != nrv_e:\n",
    "            raise ValueError('The number of random variables (x, columns) is expected to be ' + str(nrv_e) + ' but ' + str(nrv_p) + ' is provided!')\n",
    "        else:    \n",
    "            g = x[:,0]+2*x[:,1]+2*x[:,2]+x[:,3]-5*x[:,4]-5*x[:,5]  \n",
    "            \n",
    "    else: \n",
    "        raise ValueError('Only available for ndims(n<3) arrays.')\n",
    " \n",
    "    return g"
   ]
  },
  {
   "cell_type": "code",
   "execution_count": 5,
   "metadata": {},
   "outputs": [
    {
     "name": "stdout",
     "output_type": "stream",
     "text": [
      "Input=1\n",
      "-40.0\n",
      "--------------------\n",
      "Input=2\n",
      "The number of random variables (x, columns) is expected to be 6 but 3 is provided!\n",
      "--------------------\n",
      "Input=3\n",
      "[  0. -40.  -4.]\n",
      "--------------------\n",
      "Input=4\n",
      "The number of random variables (x, columns) is expected to be 6 but 3 is provided!\n",
      "--------------------\n",
      "Input=5\n",
      "Only available for ndims(n<3) arrays.\n",
      "--------------------\n",
      "Input=6\n",
      "-40.0\n",
      "--------------------\n",
      "Input=7\n",
      "[  0. -40.  -4.]\n",
      "--------------------\n",
      "Input=8\n",
      "-40.0\n",
      "--------------------\n",
      "Input=9\n",
      "could not convert string to float: 'y'\n",
      "--------------------\n"
     ]
    }
   ],
   "source": [
    "#Input with a 1D array (1,6)\n",
    "A = [1,2,3,4,5,6]\n",
    "#get an error when the dims not match\n",
    "B = [1,2,3]\n",
    "# Input with 2D array (n,6)\n",
    "C = [[0,0,0,0,0,0],[1,2,3,4,5,6],[1,1,1,1,1,1]]\n",
    "# wrong dimension, 2D\n",
    "D = [[0,0,0],[1,1,1],[2,2,2]]\n",
    "# more than 2D\n",
    "E = [[[0,0,0],[1,1,1],[2,2,2]], [[0,0,0],[1,1,1],[2,2,2]]]\n",
    "# array input, 1D\n",
    "F = np.array(A)\n",
    "# array input, 2D\n",
    "G = np.array(C)\n",
    "# tuple input\n",
    "H = (1,2,3,4,5,6)\n",
    "#\n",
    "I = [1,2,3,4,5,'y']\n",
    "\n",
    "Inp = [A, B, C, D, E, F, G, H, I]\n",
    "\n",
    "for idx,inp in enumerate(Inp):\n",
    "    print('Input=' + str(idx+1))\n",
    "    try:\n",
    "        g = func_1(inp)\n",
    "        print(g)\n",
    "    except ValueError as error:\n",
    "        print(error)\n",
    "    print('--------------------')"
   ]
  },
  {
   "cell_type": "markdown",
   "metadata": {},
   "source": [
    "This is not desirable when python trace back, the function shows up. Do you have any idea to fix it?\n",
    "\n",
    "The above solution is probably the desired one:\n",
    "We can do the try catch on the server and can give back to the user only the error text. But when the performance function is downloaded after the challenge is over we want a complete error trace."
   ]
  }
 ],
 "metadata": {
  "kernelspec": {
   "display_name": "Python 3",
   "language": "python",
   "name": "python3"
  },
  "language_info": {
   "codemirror_mode": {
    "name": "ipython",
    "version": 3
   },
   "file_extension": ".py",
   "mimetype": "text/x-python",
   "name": "python",
   "nbconvert_exporter": "python",
   "pygments_lexer": "ipython3",
   "version": "3.6.3"
  }
 },
 "nbformat": 4,
 "nbformat_minor": 2
}
