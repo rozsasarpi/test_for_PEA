{
 "cells": [
  {
   "cell_type": "markdown",
   "metadata": {},
   "source": [
    "### The performance function is:\n",
    "   $$ g(X) = x_{1} + 2x_{2} + 2x_{3} + x_{4} - 5x_{5} -5x_{6}  $$\n",
    "   \n",
    "   with $ x_{1},...,x_{4} $ ~ lognormal(120,12), $x_{5}$ ~ lognormal(50,15), $x_{6}$ ~ lognormal(40,12)\n",
    "   \n",
    "   I think 120 is the mean and std before logarithm. But I still assume they are mean and sd for simplicity now\n",
    "   "
   ]
  },
  {
   "cell_type": "code",
   "execution_count": 3,
   "metadata": {
    "collapsed": true
   },
   "outputs": [],
   "source": [
    "#!/usr/bin/env python3\n",
    "# -*- coding: utf-8 -*-\n",
    "import numpy as np\n",
    "#import sympy as sp \n",
    "import matplotlib.pyplot as plt"
   ]
  },
  {
   "cell_type": "markdown",
   "metadata": {},
   "source": [
    "### 1. Evaluate the function"
   ]
  },
  {
   "cell_type": "code",
   "execution_count": 4,
   "metadata": {
    "collapsed": true
   },
   "outputs": [],
   "source": [
    "# performance function\n",
    "def func_1(x): \n",
    "    x = np.array(x, dtype='f')\n",
    "    # expected number of random variables/columns\n",
    "    nrv_e = 6\n",
    "       \n",
    "    if len(x.shape) == 1:\n",
    "        nrv_p = x.shape[0]\n",
    "        if nrv_p != nrv_e:\n",
    "            raise ValueError('The number of random variables (x, columns) is expected to be ' + str(nrv_e) + ' but ' + str(nrv_p) + ' is provided!')\n",
    "        else:\n",
    "            g = x[0]+2*x[1]+2*x[2]+x[3]-5*x[4]-5*x[5] \n",
    "            \n",
    "    elif len(x.shape) == 2:\n",
    "        nrv_p = x.shape[1]\n",
    "        if nrv_p != nrv_e:\n",
    "            raise ValueError('The number of random variables (x, columns) is expected to be ' + str(nrv_e) + ' but ' + str(nrv_p) + ' is provided!')\n",
    "        else:    \n",
    "            g = x[:,0]+2*x[:,1]+2*x[:,2]+x[:,3]-5*x[:,4]-5*x[:,5]  \n",
    "            \n",
    "    else: \n",
    "        raise ValueError('Only available for ndims(n<3) arrays.')\n",
    " \n",
    "    return g"
   ]
  },
  {
   "cell_type": "code",
   "execution_count": 5,
   "metadata": {},
   "outputs": [
    {
     "name": "stdout",
     "output_type": "stream",
     "text": [
      "Input=1\n",
      "-40.0\n",
      "--------------------\n",
      "Input=2\n",
      "The number of random variables (x, columns) is expected to be 6 but 3 is provided!\n",
      "--------------------\n",
      "Input=3\n",
      "[  0. -40.  -4.]\n",
      "--------------------\n",
      "Input=4\n",
      "The number of random variables (x, columns) is expected to be 6 but 3 is provided!\n",
      "--------------------\n",
      "Input=5\n",
      "Only available for ndims(n<3) arrays.\n",
      "--------------------\n",
      "Input=6\n",
      "-40.0\n",
      "--------------------\n",
      "Input=7\n",
      "[  0. -40.  -4.]\n",
      "--------------------\n",
      "Input=8\n",
      "-40.0\n",
      "--------------------\n",
      "Input=9\n",
      "could not convert string to float: 'y'\n",
      "--------------------\n"
     ]
    }
   ],
   "source": [
    "#Input with a 1D array (1,6)\n",
    "A = [1,2,3,4,5,6]\n",
    "#get an error when the dims not match\n",
    "B = [1,2,3]\n",
    "# Input with 2D array (n,6)\n",
    "C = [[0,0,0,0,0,0],[1,2,3,4,5,6],[1,1,1,1,1,1]]\n",
    "# wrong dimension, 2D\n",
    "D = [[0,0,0],[1,1,1],[2,2,2]]\n",
    "# more than 2D\n",
    "E = [[[0,0,0],[1,1,1],[2,2,2]], [[0,0,0],[1,1,1],[2,2,2]]]\n",
    "# array input, 1D\n",
    "F = np.array(A)\n",
    "# array input, 2D\n",
    "G = np.array(C)\n",
    "# tuple input\n",
    "H = (1,2,3,4,5,6)\n",
    "#\n",
    "I = [1,2,3,4,5,'y']\n",
    "\n",
    "Inp = [A, B, C, D, E, F, G, H, I]\n",
    "\n",
    "for idx,inp in enumerate(Inp):\n",
    "    print('Input=' + str(idx+1))\n",
    "    try:\n",
    "        g = func_1(inp)\n",
    "        print(g)\n",
    "    except ValueError as error:\n",
    "        print(error)\n",
    "    print('--------------------')"
   ]
  },
  {
   "cell_type": "markdown",
   "metadata": {},
   "source": [
    "This is not desirable when python trace back, the function shows up. Do you have any idea to fix it?\n",
    "\n",
    "The above solution is probably the desired one:\n",
    "We can do the try catch on the server and can give back to the user only the error text. But when the performance function is downloaded after the challenge is over we want a complete error trace."
   ]
  },
  {
   "cell_type": "markdown",
   "metadata": {},
   "source": [
    "### 2. Find the range for plotting"
   ]
  },
  {
   "cell_type": "code",
   "execution_count": 6,
   "metadata": {
    "collapsed": true
   },
   "outputs": [],
   "source": [
    "def find_range(mean=None,std=None):\n",
    "    \n",
    "    if mean==None or std == None:\n",
    "        raise ValueError('mean and std must be input')\n",
    "    \n",
    "    mean = np.array(mean, dtype='f')\n",
    "    std = np.array(std, dtype='f')    \n",
    "    \n",
    "    if len(mean) != len(std):\n",
    "        raise ValueError('dimension of mean and sd should be same')\n",
    "    \n",
    "    dim = len(mean)\n",
    "    \n",
    "    sup_range = np.zeros((2,dim))\n",
    "    sup_range[0,:] = mean - 3*std\n",
    "    sup_range[1,:] = mean + 3*std\n",
    "    interval = 100\n",
    "    # turn off the upper triangle\n",
    "    \n",
    "    diag = []\n",
    "    off_diag = []\n",
    "    for x_i in range(dim):\n",
    "        for y_i in range(dim):  \n",
    "            if x_i == y_i:\n",
    "                x_grid = np.linspace(sup_range[0,x_i],\n",
    "                                     sup_range[1,x_i],\n",
    "                                     interval)\n",
    "        \n",
    "                Inputmatrix = np.array([[mean[i] for i in range(dim)] for j in range(interval)])\n",
    "                Inputmatrix[:,x_i] = x_grid        \n",
    "                               \n",
    "                diag.append([np.amin(func_1(Inputmatrix)),np.amax(func_1(Inputmatrix))])\n",
    "            \n",
    "            if x_i > y_i:\n",
    "                x_grid = np.linspace(sup_range[0,x_i],\n",
    "                                     sup_range[1,x_i],\n",
    "                                     interval)\n",
    "                y_grid = np.linspace(sup_range[0,y_i],\n",
    "                                     sup_range[1,y_i],\n",
    "                                     interval)\n",
    "                X,Y = np.meshgrid(x_grid,y_grid)\n",
    "                \n",
    "                Inputmatrix = np.array([[[mean[i] for i in range(dim)] for j in range(interval)] for k in range(interval)])   \n",
    "                Z = np.zeros((interval,interval))\n",
    "                \n",
    "                for rows in range(Inputmatrix.shape[0]):\n",
    "                    for col in range(Inputmatrix.shape[1]):\n",
    "                        Inputmatrix[rows,col,x_i] = x_grid[rows]\n",
    "                        Inputmatrix[rows,col,y_i] = y_grid[col]\n",
    "                        Z[rows,col] = func_1(Inputmatrix[rows,col])\n",
    "                        \n",
    "                off_diag.append([np.amin(Z), np.amax(Z)])\n",
    "                \n",
    "    range_diag = [np.amin(np.array(diag)),np.amax(np.array(diag))]\n",
    "    range_off_diag = [np.amin(np.array(off_diag)),np.amax(np.array(off_diag))]\n",
    "    \n",
    "    return range_diag, range_off_diag\n"
   ]
  },
  {
   "cell_type": "markdown",
   "metadata": {},
   "source": [
    "Return a list including the y_max and y_min for diagonal 1D plot and off-diagonal contour plot"
   ]
  },
  {
   "cell_type": "code",
   "execution_count": 7,
   "metadata": {},
   "outputs": [
    {
     "data": {
      "text/plain": [
       "([-15.0, 15.0], [-30.0, 30.0])"
      ]
     },
     "execution_count": 7,
     "metadata": {},
     "output_type": "execute_result"
    }
   ],
   "source": [
    "find_range([0,0,0,0,0,0],[1,1,1,1,1,1])"
   ]
  },
  {
   "cell_type": "markdown",
   "metadata": {},
   "source": [
    "### 3. Visualization by matrix plot"
   ]
  },
  {
   "cell_type": "code",
   "execution_count": 11,
   "metadata": {
    "collapsed": true
   },
   "outputs": [],
   "source": [
    "def visualize(mean=None,std=None):\n",
    "    \n",
    "    # get the range of y\n",
    "    range_diag, range_off_diag = find_range(mean, std)\n",
    "    \n",
    "    mean = np.array(mean, dtype='f')\n",
    "    std = np.array(std, dtype='f') \n",
    "    dim = len(mean)\n",
    "    \n",
    "    # amount of grid array \n",
    "    interval = 100\n",
    "    \n",
    "    fig,axes = plt.subplots(dim,dim,figsize=(dim+3,dim+3))\n",
    "    sup_range = np.zeros((2,dim))\n",
    "    sup_range[0,:] = mean - 3*std\n",
    "    sup_range[1,:] = mean + 3*std\n",
    "\n",
    "    # plotting\n",
    "    for x_i in range(dim):\n",
    "        for y_i in range(dim):\n",
    "            # turn off the upper triangle\n",
    "            if x_i < y_i:\n",
    "                axes[x_i,y_i].axis('off')\n",
    "            \n",
    "            # diagonal    \n",
    "            elif x_i == y_i:\n",
    "                x_grid = np.linspace(sup_range[0,x_i],\n",
    "                                     sup_range[1,x_i],\n",
    "                                     interval)\n",
    "        \n",
    "                Inputmatrix = np.array([[mean[i] for i in range(dim)] for j in range(interval)])\n",
    "                Inputmatrix[:,x_i] = x_grid        \n",
    "        \n",
    "                axes[x_i,x_i].plot(x_grid, func_1(Inputmatrix))\n",
    "                axes[x_i,x_i].set_ylim([0.9*range_diag[0], 1.1*range_diag[1]])\n",
    "                \n",
    "                # left top corner\n",
    "                if x_i == 0:\n",
    "                    axes[0,0].set_xticks([])\n",
    "                    axes[0,0].yaxis.tick_right()\n",
    "                    axes[0,0].yaxis.set_label_position('right')\n",
    "                    axes[0,0].set_ylabel(r'$G_{1}$',rotation=0)\n",
    "                    \n",
    "                # ???\n",
    "                # any way to have a different y label showing x_1 ?\n",
    "#                I tried twinx(), but seems like if I set the label position of original \n",
    "#                plot to right, the twin plot will change as well. This leads both x{1}\n",
    "#                and G{1} are labelled at the right side, not labelled each side \n",
    "\n",
    "#                    ax_2 = axes[0,0].twinx()\n",
    "#                    ax_2.set_ylabel(r'$x_{1}$',rotation=0)\n",
    "#                    ax_2.set_xticks([])\n",
    "#                    ax_2.set_yticks([])\n",
    "                    \n",
    "                # right bottom corner\n",
    "                elif x_i == int(dim)-1:\n",
    "                    axes[x_i,x_i].set_xlabel(r'$x_{}$'.format(int(dim)))\n",
    "                    axes[x_i,x_i].yaxis.tick_right()\n",
    "                    axes[x_i,x_i].yaxis.set_label_position('right')\n",
    "                    axes[x_i,x_i].set_ylabel(r'$G_{}$'.format(int(x_i+1)),rotation=0)\n",
    "                \n",
    "                # the rest diagonal plot\n",
    "                else:\n",
    "                    axes[x_i,x_i].set_xticks([])\n",
    "                    axes[x_i,x_i].yaxis.tick_right()\n",
    "                    axes[x_i,x_i].yaxis.set_label_position('right')\n",
    "                    axes[x_i,x_i].set_ylabel(r'$G_{}$'.format(int(x_i+1)),rotation=0)\n",
    "                \n",
    "                \n",
    "                # set ticks smaller\n",
    "                axes[x_i,x_i].tick_params(labelsize=6)\n",
    "         \n",
    "            # off diagonal\n",
    "            else:\n",
    "                x_grid = np.linspace(sup_range[0,x_i],\n",
    "                                     sup_range[1,x_i],\n",
    "                                     interval)\n",
    "                y_grid = np.linspace(sup_range[0,y_i],\n",
    "                                     sup_range[1,y_i],\n",
    "                                     interval)\n",
    "                X,Y = np.meshgrid(x_grid,y_grid)\n",
    "                \n",
    "                Inputmatrix = np.array([[[mean[i] for i in range(dim)] for j in range(interval)] for k in range(interval)])   \n",
    "                Z = np.zeros((interval,interval))\n",
    "                \n",
    "                # creata a 3D array for input \n",
    "                for rows in range(Inputmatrix.shape[0]):\n",
    "                    for col in range(Inputmatrix.shape[1]):\n",
    "                        Inputmatrix[rows,col,x_i] = x_grid[rows]\n",
    "                        Inputmatrix[rows,col,y_i] = y_grid[col]\n",
    "                        Z[rows,col] = func_1(Inputmatrix[rows,col])\n",
    "                        \n",
    "                # for the colorbar later       \n",
    "                color = axes[x_i,y_i].contourf(Y,X,Z,vmin=range_off_diag[0],\\\n",
    "                  vmax=range_off_diag[1],cmap=plt.cm.coolwarm)\n",
    "                \n",
    "                # left bottom corner\n",
    "                if x_i == dim-1 and y_i == 0:\n",
    "                    axes[x_i,y_i].set_xlabel(r'$x_{1}$')\n",
    "                    axes[x_i,y_i].set_ylabel(r'$x_{}$'.format(int(dim)),rotation=0)\n",
    "                \n",
    "                # bottom edge x label\n",
    "                elif x_i == dim-1:\n",
    "                    if y_i != 0:\n",
    "                        axes[x_i,y_i].set_yticks([])\n",
    "                    axes[x_i,y_i].set_xlabel(r\"$x_{}$\".format(int(y_i+1)))\n",
    "                    \n",
    "\n",
    "                # left edge x label   \n",
    "                elif y_i == 0:\n",
    "                    axes[x_i,y_i].set_xticks([])\n",
    "                    axes[x_i,y_i].set_ylabel(r\"$x_{}$\".format(int(x_i+1)),rotation=0)\n",
    "                    \n",
    "                else:\n",
    "                    axes[x_i,y_i].set_yticks([])\n",
    "                    axes[x_i,y_i].set_xticks([])\n",
    "                \n",
    "                axes[x_i,y_i].tick_params(labelsize=6)\n",
    "                \n",
    "    plt.suptitle('Visualization of Performance Function 1')\n",
    "    \n",
    "    # postition of colorbar\n",
    "    cax = plt.axes([0.85,0.5,0.025,0.3])\n",
    "    plt.colorbar(color,cax=cax)\n",
    "#    fig.savefig('plot.png')\n",
    "    return fig"
   ]
  },
  {
   "cell_type": "code",
   "execution_count": 12,
   "metadata": {},
   "outputs": [
    {
     "data": {
      "image/png": "[encoded data removed]",
      "text/plain": [
       "<matplotlib.figure.Figure at 0x114fec400>"
      ]
     },
     "execution_count": 12,
     "metadata": {},
     "output_type": "execute_result"
    }
   ],
   "source": [
    "visualize([120,120,120,120,50,40],[12,12,12,12,15,12])"
   ]
  },
  {
   "cell_type": "markdown",
   "metadata": {},
   "source": [
    "Random input"
   ]
  },
  {
   "cell_type": "code",
   "execution_count": 14,
   "metadata": {},
   "outputs": [
    {
     "data": {
      "image/png": "[encoded data removed]",
      "text/plain": [
       "<matplotlib.figure.Figure at 0x10cb03080>"
      ]
     },
     "execution_count": 14,
     "metadata": {},
     "output_type": "execute_result"
    }
   ],
   "source": [
    "visualize([1,1,1,1,1,1],[2,2,2,2,2,2])"
   ]
  },
  {
   "cell_type": "markdown",
   "metadata": {},
   "source": [
    "The main deficiencies in this figure are:\n",
    "    \n",
    "   1. The axis[0,0] only has G labelled, x_1 should be labelled on the other side as well, but I didn't find a good way to do it.\n",
    "   2. The (cropped-like) plot you mentioned for example axes[4,4], still remains. This may due to I set the limit to exact the min or max value without any space left. I'm not sure how to optimize it. I considered times 0.9 to the min and 1.1 for the max, but this depends on if the value is positive or negative.\n",
    "   3. The code is tedious and clumsy. A lot can be improved. But for now, I'm just focusing on making it work. Maybe you can optimize it later\n",
    "   \n",
    "   I will upload it to the share folder (the website you send to me perviously: repl.it) after you revise this file.\n",
    "   I feel like jupter notebook looks better :)\n",
    "   "
   ]
  }
 ],
 "metadata": {
  "kernelspec": {
   "display_name": "Python 3",
   "language": "python",
   "name": "python3"
  },
  "language_info": {
   "codemirror_mode": {
    "name": "ipython",
    "version": 3
   },
   "file_extension": ".py",
   "mimetype": "text/x-python",
   "name": "python",
   "nbconvert_exporter": "python",
   "pygments_lexer": "ipython3",
   "version": "3.6.3"
  }
 },
 "nbformat": 4,
 "nbformat_minor": 2
}
